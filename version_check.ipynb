{
 "cells": [
  {
   "cell_type": "code",
   "execution_count": 1,
   "metadata": {},
   "outputs": [],
   "source": [
    "import sys\n",
    "import numpy\n",
    "import scipy\n",
    "import skimage\n",
    "import PIL\n",
    "import h5py\n",
    "import torch\n",
    "import torchvision"
   ]
  },
  {
   "cell_type": "code",
   "execution_count": 2,
   "metadata": {},
   "outputs": [
    {
     "name": "stdout",
     "output_type": "stream",
     "text": [
      "Python = 3.11.5 (main, Sep 11 2023, 13:54:46) [GCC 11.2.0]\n",
      "NumPy = 1.26.0\n",
      "SciPy = 1.11.3\n",
      "scikit-image = 0.20.0\n",
      "PIL = 10.0.1\n",
      "h5py = 3.9.0\n",
      "PyTorch = 2.1.0\n",
      "Torchvision = 0.16.0\n",
      "CUDA = 11.8\n",
      "cuDNN = 8.7.0\n"
     ]
    }
   ],
   "source": [
    "print('Python = {}'.format(sys.version))\n",
    "\n",
    "print('NumPy = {}'.format(numpy.__version__))\n",
    "print('SciPy = {}'.format(scipy.__version__))\n",
    "print('scikit-image = {}'.format(skimage.__version__))\n",
    "print('PIL = {}'.format(PIL.__version__))\n",
    "print('h5py = {}'.format(h5py.__version__))\n",
    "\n",
    "print('PyTorch = {}'.format(torch.__version__))\n",
    "print('Torchvision = {}'.format(torchvision.__version__))\n",
    "print('CUDA = {}'.format(torch.version.cuda))\n",
    "print('cuDNN = {:.1f}.{:.0f}'.format(torch.backends.cudnn.version() / 1000, torch.backends.cudnn.version() % 100 / 10))"
   ]
  }
 ],
 "metadata": {
  "kernelspec": {
   "display_name": "DL",
   "language": "python",
   "name": "python3"
  },
  "language_info": {
   "codemirror_mode": {
    "name": "ipython",
    "version": 3
   },
   "file_extension": ".py",
   "mimetype": "text/x-python",
   "name": "python",
   "nbconvert_exporter": "python",
   "pygments_lexer": "ipython3",
   "version": "3.11.5"
  }
 },
 "nbformat": 4,
 "nbformat_minor": 2
}
